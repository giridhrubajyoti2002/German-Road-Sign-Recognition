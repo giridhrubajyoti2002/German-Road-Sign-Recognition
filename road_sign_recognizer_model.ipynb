{
 "cells": [
  {
   "cell_type": "code",
   "execution_count": 101,
   "id": "076bb823",
   "metadata": {},
   "outputs": [],
   "source": [
    "import tensorflow as tf\n",
    "import tensorflow.keras as keras\n",
    "import pandas as pd\n",
    "import matplotlib.pyplot as plt\n",
    "import numpy as np"
   ]
  },
  {
   "cell_type": "code",
   "execution_count": 102,
   "id": "812c25c1",
   "metadata": {},
   "outputs": [],
   "source": [
    "train_csv = pd.read_csv('datasets/Train.csv')\n",
    "test_csv = pd.read_csv('datasets/Test.csv')"
   ]
  },
  {
   "cell_type": "code",
   "execution_count": 103,
   "id": "c37447a0",
   "metadata": {},
   "outputs": [
    {
     "data": {
      "text/html": [
       "<div>\n",
       "<style scoped>\n",
       "    .dataframe tbody tr th:only-of-type {\n",
       "        vertical-align: middle;\n",
       "    }\n",
       "\n",
       "    .dataframe tbody tr th {\n",
       "        vertical-align: top;\n",
       "    }\n",
       "\n",
       "    .dataframe thead th {\n",
       "        text-align: right;\n",
       "    }\n",
       "</style>\n",
       "<table border=\"1\" class=\"dataframe\">\n",
       "  <thead>\n",
       "    <tr style=\"text-align: right;\">\n",
       "      <th></th>\n",
       "      <th>Width</th>\n",
       "      <th>Height</th>\n",
       "      <th>Roi.X1</th>\n",
       "      <th>Roi.Y1</th>\n",
       "      <th>Roi.X2</th>\n",
       "      <th>Roi.Y2</th>\n",
       "      <th>ClassId</th>\n",
       "      <th>Path</th>\n",
       "    </tr>\n",
       "  </thead>\n",
       "  <tbody>\n",
       "    <tr>\n",
       "      <th>0</th>\n",
       "      <td>27</td>\n",
       "      <td>26</td>\n",
       "      <td>5</td>\n",
       "      <td>5</td>\n",
       "      <td>22</td>\n",
       "      <td>20</td>\n",
       "      <td>20</td>\n",
       "      <td>Train/20/00020_00000_00000.png</td>\n",
       "    </tr>\n",
       "    <tr>\n",
       "      <th>1</th>\n",
       "      <td>28</td>\n",
       "      <td>27</td>\n",
       "      <td>5</td>\n",
       "      <td>6</td>\n",
       "      <td>23</td>\n",
       "      <td>22</td>\n",
       "      <td>20</td>\n",
       "      <td>Train/20/00020_00000_00001.png</td>\n",
       "    </tr>\n",
       "    <tr>\n",
       "      <th>2</th>\n",
       "      <td>29</td>\n",
       "      <td>26</td>\n",
       "      <td>6</td>\n",
       "      <td>5</td>\n",
       "      <td>24</td>\n",
       "      <td>21</td>\n",
       "      <td>20</td>\n",
       "      <td>Train/20/00020_00000_00002.png</td>\n",
       "    </tr>\n",
       "    <tr>\n",
       "      <th>3</th>\n",
       "      <td>28</td>\n",
       "      <td>27</td>\n",
       "      <td>5</td>\n",
       "      <td>6</td>\n",
       "      <td>23</td>\n",
       "      <td>22</td>\n",
       "      <td>20</td>\n",
       "      <td>Train/20/00020_00000_00003.png</td>\n",
       "    </tr>\n",
       "    <tr>\n",
       "      <th>4</th>\n",
       "      <td>28</td>\n",
       "      <td>26</td>\n",
       "      <td>5</td>\n",
       "      <td>5</td>\n",
       "      <td>23</td>\n",
       "      <td>21</td>\n",
       "      <td>20</td>\n",
       "      <td>Train/20/00020_00000_00004.png</td>\n",
       "    </tr>\n",
       "  </tbody>\n",
       "</table>\n",
       "</div>"
      ],
      "text/plain": [
       "   Width  Height  Roi.X1  Roi.Y1  Roi.X2  Roi.Y2  ClassId  \\\n",
       "0     27      26       5       5      22      20       20   \n",
       "1     28      27       5       6      23      22       20   \n",
       "2     29      26       6       5      24      21       20   \n",
       "3     28      27       5       6      23      22       20   \n",
       "4     28      26       5       5      23      21       20   \n",
       "\n",
       "                             Path  \n",
       "0  Train/20/00020_00000_00000.png  \n",
       "1  Train/20/00020_00000_00001.png  \n",
       "2  Train/20/00020_00000_00002.png  \n",
       "3  Train/20/00020_00000_00003.png  \n",
       "4  Train/20/00020_00000_00004.png  "
      ]
     },
     "execution_count": 103,
     "metadata": {},
     "output_type": "execute_result"
    }
   ],
   "source": [
    "train_csv.head()"
   ]
  },
  {
   "cell_type": "code",
   "execution_count": 104,
   "id": "af493fd8",
   "metadata": {},
   "outputs": [
    {
     "data": {
      "text/html": [
       "<div>\n",
       "<style scoped>\n",
       "    .dataframe tbody tr th:only-of-type {\n",
       "        vertical-align: middle;\n",
       "    }\n",
       "\n",
       "    .dataframe tbody tr th {\n",
       "        vertical-align: top;\n",
       "    }\n",
       "\n",
       "    .dataframe thead th {\n",
       "        text-align: right;\n",
       "    }\n",
       "</style>\n",
       "<table border=\"1\" class=\"dataframe\">\n",
       "  <thead>\n",
       "    <tr style=\"text-align: right;\">\n",
       "      <th></th>\n",
       "      <th>Width</th>\n",
       "      <th>Height</th>\n",
       "      <th>Roi.X1</th>\n",
       "      <th>Roi.Y1</th>\n",
       "      <th>Roi.X2</th>\n",
       "      <th>Roi.Y2</th>\n",
       "      <th>ClassId</th>\n",
       "      <th>Path</th>\n",
       "    </tr>\n",
       "    <tr>\n",
       "      <th>Path</th>\n",
       "      <th></th>\n",
       "      <th></th>\n",
       "      <th></th>\n",
       "      <th></th>\n",
       "      <th></th>\n",
       "      <th></th>\n",
       "      <th></th>\n",
       "      <th></th>\n",
       "    </tr>\n",
       "  </thead>\n",
       "  <tbody>\n",
       "    <tr>\n",
       "      <th>Train/20/00020_00000_00000.png</th>\n",
       "      <td>27</td>\n",
       "      <td>26</td>\n",
       "      <td>5</td>\n",
       "      <td>5</td>\n",
       "      <td>22</td>\n",
       "      <td>20</td>\n",
       "      <td>20</td>\n",
       "      <td>Train/20/00020_00000_00000.png</td>\n",
       "    </tr>\n",
       "    <tr>\n",
       "      <th>Train/20/00020_00000_00001.png</th>\n",
       "      <td>28</td>\n",
       "      <td>27</td>\n",
       "      <td>5</td>\n",
       "      <td>6</td>\n",
       "      <td>23</td>\n",
       "      <td>22</td>\n",
       "      <td>20</td>\n",
       "      <td>Train/20/00020_00000_00001.png</td>\n",
       "    </tr>\n",
       "    <tr>\n",
       "      <th>Train/20/00020_00000_00002.png</th>\n",
       "      <td>29</td>\n",
       "      <td>26</td>\n",
       "      <td>6</td>\n",
       "      <td>5</td>\n",
       "      <td>24</td>\n",
       "      <td>21</td>\n",
       "      <td>20</td>\n",
       "      <td>Train/20/00020_00000_00002.png</td>\n",
       "    </tr>\n",
       "    <tr>\n",
       "      <th>Train/20/00020_00000_00003.png</th>\n",
       "      <td>28</td>\n",
       "      <td>27</td>\n",
       "      <td>5</td>\n",
       "      <td>6</td>\n",
       "      <td>23</td>\n",
       "      <td>22</td>\n",
       "      <td>20</td>\n",
       "      <td>Train/20/00020_00000_00003.png</td>\n",
       "    </tr>\n",
       "    <tr>\n",
       "      <th>Train/20/00020_00000_00004.png</th>\n",
       "      <td>28</td>\n",
       "      <td>26</td>\n",
       "      <td>5</td>\n",
       "      <td>5</td>\n",
       "      <td>23</td>\n",
       "      <td>21</td>\n",
       "      <td>20</td>\n",
       "      <td>Train/20/00020_00000_00004.png</td>\n",
       "    </tr>\n",
       "  </tbody>\n",
       "</table>\n",
       "</div>"
      ],
      "text/plain": [
       "                                Width  Height  Roi.X1  Roi.Y1  Roi.X2  Roi.Y2  \\\n",
       "Path                                                                            \n",
       "Train/20/00020_00000_00000.png     27      26       5       5      22      20   \n",
       "Train/20/00020_00000_00001.png     28      27       5       6      23      22   \n",
       "Train/20/00020_00000_00002.png     29      26       6       5      24      21   \n",
       "Train/20/00020_00000_00003.png     28      27       5       6      23      22   \n",
       "Train/20/00020_00000_00004.png     28      26       5       5      23      21   \n",
       "\n",
       "                                ClassId                            Path  \n",
       "Path                                                                     \n",
       "Train/20/00020_00000_00000.png       20  Train/20/00020_00000_00000.png  \n",
       "Train/20/00020_00000_00001.png       20  Train/20/00020_00000_00001.png  \n",
       "Train/20/00020_00000_00002.png       20  Train/20/00020_00000_00002.png  \n",
       "Train/20/00020_00000_00003.png       20  Train/20/00020_00000_00003.png  \n",
       "Train/20/00020_00000_00004.png       20  Train/20/00020_00000_00004.png  "
      ]
     },
     "execution_count": 104,
     "metadata": {},
     "output_type": "execute_result"
    }
   ],
   "source": [
    "train_csv.index = train_csv['Path']\n",
    "train_csv.head()"
   ]
  },
  {
   "cell_type": "code",
   "execution_count": 105,
   "id": "5ab143a4",
   "metadata": {},
   "outputs": [
    {
     "data": {
      "text/plain": [
       "20"
      ]
     },
     "execution_count": 105,
     "metadata": {},
     "output_type": "execute_result"
    }
   ],
   "source": [
    "train_csv.loc['Train/20/00020_00000_00001.png']['ClassId']"
   ]
  },
  {
   "cell_type": "code",
   "execution_count": 106,
   "id": "8931129a",
   "metadata": {},
   "outputs": [
    {
     "data": {
      "text/plain": [
       "Path\n",
       "Train/20/00020_00000_00000.png    20\n",
       "Train/20/00020_00000_00001.png    20\n",
       "Train/20/00020_00000_00002.png    20\n",
       "Train/20/00020_00000_00003.png    20\n",
       "Train/20/00020_00000_00004.png    20\n",
       "Name: ClassId, dtype: int64"
      ]
     },
     "execution_count": 106,
     "metadata": {},
     "output_type": "execute_result"
    }
   ],
   "source": [
    "train_csv = train_csv['ClassId']\n",
    "train_csv.head()"
   ]
  },
  {
   "cell_type": "code",
   "execution_count": 107,
   "id": "a896cc93",
   "metadata": {},
   "outputs": [
    {
     "data": {
      "text/plain": [
       "20"
      ]
     },
     "execution_count": 107,
     "metadata": {},
     "output_type": "execute_result"
    }
   ],
   "source": [
    "train_csv.loc['Train/20/00020_00000_00001.png']"
   ]
  },
  {
   "cell_type": "code",
   "execution_count": 108,
   "id": "1cd7a48f",
   "metadata": {},
   "outputs": [
    {
     "data": {
      "text/plain": [
       "pandas.core.series.Series"
      ]
     },
     "execution_count": 108,
     "metadata": {},
     "output_type": "execute_result"
    }
   ],
   "source": [
    "type(train_csv)"
   ]
  },
  {
   "cell_type": "code",
   "execution_count": 109,
   "id": "30c3fb9a",
   "metadata": {},
   "outputs": [
    {
     "data": {
      "text/html": [
       "<div>\n",
       "<style scoped>\n",
       "    .dataframe tbody tr th:only-of-type {\n",
       "        vertical-align: middle;\n",
       "    }\n",
       "\n",
       "    .dataframe tbody tr th {\n",
       "        vertical-align: top;\n",
       "    }\n",
       "\n",
       "    .dataframe thead th {\n",
       "        text-align: right;\n",
       "    }\n",
       "</style>\n",
       "<table border=\"1\" class=\"dataframe\">\n",
       "  <thead>\n",
       "    <tr style=\"text-align: right;\">\n",
       "      <th></th>\n",
       "      <th>Width</th>\n",
       "      <th>Height</th>\n",
       "      <th>Roi.X1</th>\n",
       "      <th>Roi.Y1</th>\n",
       "      <th>Roi.X2</th>\n",
       "      <th>Roi.Y2</th>\n",
       "      <th>ClassId</th>\n",
       "      <th>Path</th>\n",
       "    </tr>\n",
       "  </thead>\n",
       "  <tbody>\n",
       "    <tr>\n",
       "      <th>0</th>\n",
       "      <td>53</td>\n",
       "      <td>54</td>\n",
       "      <td>6</td>\n",
       "      <td>5</td>\n",
       "      <td>48</td>\n",
       "      <td>49</td>\n",
       "      <td>16</td>\n",
       "      <td>Test/00000.png</td>\n",
       "    </tr>\n",
       "    <tr>\n",
       "      <th>1</th>\n",
       "      <td>42</td>\n",
       "      <td>45</td>\n",
       "      <td>5</td>\n",
       "      <td>5</td>\n",
       "      <td>36</td>\n",
       "      <td>40</td>\n",
       "      <td>1</td>\n",
       "      <td>Test/00001.png</td>\n",
       "    </tr>\n",
       "    <tr>\n",
       "      <th>2</th>\n",
       "      <td>48</td>\n",
       "      <td>52</td>\n",
       "      <td>6</td>\n",
       "      <td>6</td>\n",
       "      <td>43</td>\n",
       "      <td>47</td>\n",
       "      <td>38</td>\n",
       "      <td>Test/00002.png</td>\n",
       "    </tr>\n",
       "    <tr>\n",
       "      <th>3</th>\n",
       "      <td>27</td>\n",
       "      <td>29</td>\n",
       "      <td>5</td>\n",
       "      <td>5</td>\n",
       "      <td>22</td>\n",
       "      <td>24</td>\n",
       "      <td>33</td>\n",
       "      <td>Test/00003.png</td>\n",
       "    </tr>\n",
       "    <tr>\n",
       "      <th>4</th>\n",
       "      <td>60</td>\n",
       "      <td>57</td>\n",
       "      <td>5</td>\n",
       "      <td>5</td>\n",
       "      <td>55</td>\n",
       "      <td>52</td>\n",
       "      <td>11</td>\n",
       "      <td>Test/00004.png</td>\n",
       "    </tr>\n",
       "  </tbody>\n",
       "</table>\n",
       "</div>"
      ],
      "text/plain": [
       "   Width  Height  Roi.X1  Roi.Y1  Roi.X2  Roi.Y2  ClassId            Path\n",
       "0     53      54       6       5      48      49       16  Test/00000.png\n",
       "1     42      45       5       5      36      40        1  Test/00001.png\n",
       "2     48      52       6       6      43      47       38  Test/00002.png\n",
       "3     27      29       5       5      22      24       33  Test/00003.png\n",
       "4     60      57       5       5      55      52       11  Test/00004.png"
      ]
     },
     "execution_count": 109,
     "metadata": {},
     "output_type": "execute_result"
    }
   ],
   "source": [
    "test_csv.head()"
   ]
  },
  {
   "cell_type": "code",
   "execution_count": 110,
   "id": "90768b26",
   "metadata": {},
   "outputs": [
    {
     "data": {
      "text/plain": [
       "Path\n",
       "Test/00000.png    16\n",
       "Test/00001.png     1\n",
       "Test/00002.png    38\n",
       "Test/00003.png    33\n",
       "Test/00004.png    11\n",
       "Name: ClassId, dtype: int64"
      ]
     },
     "execution_count": 110,
     "metadata": {},
     "output_type": "execute_result"
    }
   ],
   "source": [
    "test_csv.index = test_csv['Path']\n",
    "test_csv = test_csv['ClassId']\n",
    "test_csv.head()"
   ]
  },
  {
   "cell_type": "code",
   "execution_count": 111,
   "id": "53f99723",
   "metadata": {},
   "outputs": [],
   "source": [
    "import os\n",
    "def find_average_dimention(data):\n",
    "    x , y = [], []\n",
    "    pwd = os.getcwd()+\"\\\\datasets\\\\\"+data\n",
    "    for dir1 in os.listdir(pwd):\n",
    "        if dir1.endswith('.png'):            \n",
    "            sh = cv2.imread('datasets/'+data+'/'+dir1).shape\n",
    "            x.append(sh[0])\n",
    "            y.append(sh[1])\n",
    "        else:\n",
    "            for dir2 in os.listdir(pwd+'\\\\'+dir1):                            \n",
    "                sh = cv2.imread('datasets/'+data+'/'+dir1+'/'+dir2).shape\n",
    "                x.append(sh[0])\n",
    "                y.append(sh[1])\n",
    "    print(np.average(x), np.average(y))\n",
    "    return int(np.round(np.average(x))), int(round(np.average(y)))"
   ]
  },
  {
   "cell_type": "code",
   "execution_count": 112,
   "id": "893d7dff",
   "metadata": {},
   "outputs": [],
   "source": [
    "from sklearn.utils import shuffle\n",
    "import cv2\n",
    "def create_dataset(data, csv):\n",
    "    X = []\n",
    "    y = []\n",
    "    pwd = os.getcwd()+\"\\\\datasets\\\\\"+data\n",
    "    for dir1 in os.listdir(pwd):\n",
    "        if dir1.endswith('.png'):            \n",
    "            img = cv2.imread('datasets/'+data+'/'+dir1, cv2.COLOR_BGR2RGB)\n",
    "            img = cv2.resize(img,(ydim, xdim))\n",
    "            img = np.array(img)\n",
    "            img = img.astype('float32')\n",
    "            img /= 255\n",
    "            X.append(img)\n",
    "            y.append(csv.loc[data+'/'+dir1])\n",
    "        else:\n",
    "            for dir2 in os.listdir(pwd+'\\\\'+dir1):            \n",
    "                img = cv2.imread('datasets/'+data+'/'+dir1+'/'+dir2, cv2.COLOR_BGR2RGB)\n",
    "                img = cv2.resize(img,(ydim, xdim))\n",
    "                img = np.array(img)\n",
    "                img = img.astype('float32')\n",
    "                img /= 255\n",
    "                X.append(img)\n",
    "                y.append(csv.loc[data+'/'+dir1+'/'+dir2])                   # y.append(dir1) <-- this can also be done\n",
    "#     print(X[0])\n",
    "    return shuffle(np.array(X), np.array(y))        #tf.convert_to_tensor(X)#, tf.convert_to_tensor(y)"
   ]
  },
  {
   "cell_type": "markdown",
   "id": "864a1f61",
   "metadata": {},
   "source": [
    "## Creating Training and Testing Dataset"
   ]
  },
  {
   "cell_type": "code",
   "execution_count": 113,
   "id": "1cc54019",
   "metadata": {},
   "outputs": [
    {
     "name": "stdout",
     "output_type": "stream",
     "text": [
      "50.328929582493814 50.83587951745773\n"
     ]
    }
   ],
   "source": [
    "xdim , ydim = find_average_dimention('Train')\n",
    "\n",
    "import csv\n",
    "with open('model_experiments/variable_values.csv', 'w') as f:\n",
    "    writer = csv.writer(f)\n",
    "    writer.writerows([['Variable Name', 'Value'], ['xdim', xdim], ['ydim', ydim]])"
   ]
  },
  {
   "cell_type": "code",
   "execution_count": 114,
   "id": "6715cd1c",
   "metadata": {},
   "outputs": [
    {
     "data": {
      "text/plain": [
       "(50, 51)"
      ]
     },
     "execution_count": 114,
     "metadata": {},
     "output_type": "execute_result"
    }
   ],
   "source": [
    "xdim, ydim"
   ]
  },
  {
   "cell_type": "code",
   "execution_count": 115,
   "id": "07546f29",
   "metadata": {},
   "outputs": [],
   "source": [
    "train_X, train_y = create_dataset('Train', train_csv)\n",
    "test_X, test_y= create_dataset('Test', test_csv)"
   ]
  },
  {
   "cell_type": "code",
   "execution_count": 116,
   "id": "1ebdce82",
   "metadata": {},
   "outputs": [
    {
     "data": {
      "text/plain": [
       "numpy.ndarray"
      ]
     },
     "execution_count": 116,
     "metadata": {},
     "output_type": "execute_result"
    }
   ],
   "source": [
    "type(train_X)"
   ]
  },
  {
   "cell_type": "code",
   "execution_count": 117,
   "id": "b044ac30",
   "metadata": {},
   "outputs": [
    {
     "data": {
      "text/plain": [
       "((39209, 50, 51, 3), (39209,), (12630, 50, 51, 3), (12630,))"
      ]
     },
     "execution_count": 117,
     "metadata": {},
     "output_type": "execute_result"
    }
   ],
   "source": [
    "train_X.shape, train_y.shape, test_X.shape, test_y.shape"
   ]
  },
  {
   "cell_type": "code",
   "execution_count": 119,
   "id": "5497e9f1",
   "metadata": {},
   "outputs": [],
   "source": [
    "# data_X = np."
   ]
  },
  {
   "cell_type": "markdown",
   "id": "3ba6dca6",
   "metadata": {},
   "source": [
    "## Building Model"
   ]
  },
  {
   "cell_type": "code",
   "execution_count": 120,
   "id": "59f9cef5",
   "metadata": {},
   "outputs": [],
   "source": [
    "def create_model_checkpoint(model_name, save_path='model_experiments'):\n",
    "    return keras.callbacks.ModelCheckpoint(filepath=os.path.join(save_path, model_name), monitor='accuracy', mode='max', \n",
    "                                          verbose=0, save_best_only=True)"
   ]
  },
  {
   "cell_type": "code",
   "execution_count": 127,
   "id": "b3c3fe3d",
   "metadata": {},
   "outputs": [
    {
     "name": "stdout",
     "output_type": "stream",
     "text": [
      "Model: \"road_sign_detection_model\"\n",
      "_________________________________________________________________\n",
      " Layer (type)                Output Shape              Param #   \n",
      "=================================================================\n",
      " conv2d_55 (Conv2D)          (None, 46, 47, 128)       9728      \n",
      "                                                                 \n",
      " conv2d_56 (Conv2D)          (None, 44, 45, 128)       147584    \n",
      "                                                                 \n",
      " max_pooling2d_41 (MaxPoolin  (None, 14, 15, 128)      0         \n",
      " g2D)                                                            \n",
      "                                                                 \n",
      " dropout_13 (Dropout)        (None, 14, 15, 128)       0         \n",
      "                                                                 \n",
      " conv2d_57 (Conv2D)          (None, 12, 13, 64)        73792     \n",
      "                                                                 \n",
      " conv2d_58 (Conv2D)          (None, 11, 12, 64)        16448     \n",
      "                                                                 \n",
      " max_pooling2d_42 (MaxPoolin  (None, 5, 6, 64)         0         \n",
      " g2D)                                                            \n",
      "                                                                 \n",
      " dropout_14 (Dropout)        (None, 5, 6, 64)          0         \n",
      "                                                                 \n",
      " flatten_22 (Flatten)        (None, 1920)              0         \n",
      "                                                                 \n",
      " dense_44 (Dense)            (None, 512)               983552    \n",
      "                                                                 \n",
      " dropout_15 (Dropout)        (None, 512)               0         \n",
      "                                                                 \n",
      " dense_45 (Dense)            (None, 256)               131328    \n",
      "                                                                 \n",
      " dropout_16 (Dropout)        (None, 256)               0         \n",
      "                                                                 \n",
      " dense_46 (Dense)            (None, 43)                11051     \n",
      "                                                                 \n",
      "=================================================================\n",
      "Total params: 1,373,483\n",
      "Trainable params: 1,373,483\n",
      "Non-trainable params: 0\n",
      "_________________________________________________________________\n"
     ]
    }
   ],
   "source": [
    "model = keras.Sequential([\n",
    "    keras.layers.Conv2D(filters=128, kernel_size=(5,5), input_shape=(xdim, ydim, 3)),  # 32\n",
    "    keras.layers.Conv2D(filters=128, kernel_size=(3,3), activation='relu'),      # 32\n",
    "    keras.layers.MaxPooling2D(pool_size=(3,3)),   # (2,2)\n",
    "    keras.layers.Dropout(rate=0.25),\n",
    "    keras.layers.Conv2D(filters=64, kernel_size=(3,3), activation='relu'), #  64\n",
    "    keras.layers.Conv2D(filters=64, kernel_size=(2,2), activation='relu'), #  64\n",
    "    keras.layers.MaxPooling2D(pool_size=(2,2)),\n",
    "    keras.layers.Dropout(rate=0.25),\n",
    "    keras.layers.Flatten(),\n",
    "    keras.layers.Dense(512,activation='relu'),\n",
    "    keras.layers.Dropout(rate=0.5),\n",
    "    keras.layers.Dense(256,activation='relu'),\n",
    "    keras.layers.Dropout(rate=0.25),\n",
    "    keras.layers.Dense(len(set(train_csv.values)), activation='softmax')\n",
    "],name='road_sign_detection_model')\n",
    "\n",
    "model.compile(loss=keras.losses.sparse_categorical_crossentropy,\n",
    "              optimizer=keras.optimizers.Adam(learning_rate=0.001),\n",
    "              metrics=['accuracy'])\n",
    "\n",
    "model.summary()"
   ]
  },
  {
   "cell_type": "code",
   "execution_count": 128,
   "id": "dea7bfeb",
   "metadata": {
    "scrolled": true
   },
   "outputs": [
    {
     "name": "stdout",
     "output_type": "stream",
     "text": [
      "Epoch 1/10\n",
      "154/154 [==============================] - ETA: 0s - loss: 2.0698 - accuracy: 0.4109 INFO:tensorflow:Assets written to: model_experiments\\road_sign_detection_model\\assets\n",
      "154/154 [==============================] - 2451s 16s/step - loss: 2.0698 - accuracy: 0.4109\n",
      "Epoch 2/10\n",
      "154/154 [==============================] - ETA: 0s - loss: 0.3403 - accuracy: 0.8930 INFO:tensorflow:Assets written to: model_experiments\\road_sign_detection_model\\assets\n",
      "154/154 [==============================] - 2347s 15s/step - loss: 0.3403 - accuracy: 0.8930\n",
      "Epoch 3/10\n",
      "154/154 [==============================] - ETA: 0s - loss: 0.1396 - accuracy: 0.9579 INFO:tensorflow:Assets written to: model_experiments\\road_sign_detection_model\\assets\n",
      "154/154 [==============================] - 2370s 15s/step - loss: 0.1396 - accuracy: 0.9579\n",
      "Epoch 4/10\n",
      "154/154 [==============================] - ETA: 0s - loss: 0.1008 - accuracy: 0.9695 INFO:tensorflow:Assets written to: model_experiments\\road_sign_detection_model\\assets\n",
      "154/154 [==============================] - 2584s 17s/step - loss: 0.1008 - accuracy: 0.9695\n",
      "Epoch 5/10\n",
      "154/154 [==============================] - ETA: 0s - loss: 0.0698 - accuracy: 0.9790  INFO:tensorflow:Assets written to: model_experiments\\road_sign_detection_model\\assets\n",
      "154/154 [==============================] - 31281s 204s/step - loss: 0.0698 - accuracy: 0.9790\n",
      "Epoch 6/10\n",
      "154/154 [==============================] - ETA: 0s - loss: 0.0482 - accuracy: 0.9853 INFO:tensorflow:Assets written to: model_experiments\\road_sign_detection_model\\assets\n",
      "154/154 [==============================] - 4076s 26s/step - loss: 0.0482 - accuracy: 0.9853\n",
      "Epoch 7/10\n",
      "154/154 [==============================] - ETA: 0s - loss: 0.0451 - accuracy: 0.9872 INFO:tensorflow:Assets written to: model_experiments\\road_sign_detection_model\\assets\n",
      "154/154 [==============================] - 3291s 21s/step - loss: 0.0451 - accuracy: 0.9872\n",
      "Epoch 8/10\n",
      "154/154 [==============================] - 11529s 75s/step - loss: 0.0539 - accuracy: 0.9850\n",
      "Epoch 9/10\n",
      "154/154 [==============================] - ETA: 0s - loss: 0.0365 - accuracy: 0.9898 INFO:tensorflow:Assets written to: model_experiments\\road_sign_detection_model\\assets\n",
      "154/154 [==============================] - 5869s 38s/step - loss: 0.0365 - accuracy: 0.9898\n",
      "Epoch 10/10\n",
      "154/154 [==============================] - ETA: 0s - loss: 0.0353 - accuracy: 0.9901  INFO:tensorflow:Assets written to: model_experiments\\road_sign_detection_model\\assets\n",
      "154/154 [==============================] - 9591s 62s/step - loss: 0.0353 - accuracy: 0.9901\n"
     ]
    }
   ],
   "source": [
    "history = model.fit(x=train_X, y=train_y, epochs=10, verbose=1, batch_size=256, callbacks=[create_model_checkpoint(model.name)])"
   ]
  },
  {
   "cell_type": "code",
   "execution_count": 129,
   "id": "3e46d6e8",
   "metadata": {},
   "outputs": [
    {
     "data": {
      "image/png": "[encoded data removed]",
      "text/plain": [
       "<Figure size 432x288 with 1 Axes>"
      ]
     },
     "metadata": {
      "needs_background": "light"
     },
     "output_type": "display_data"
    }
   ],
   "source": [
    "pd.DataFrame(history.history).plot()\n",
    "plt.xlabel('Epochs')\n",
    "plt.show()"
   ]
  },
  {
   "cell_type": "code",
   "execution_count": 130,
   "id": "48bd6d67",
   "metadata": {},
   "outputs": [
    {
     "name": "stdout",
     "output_type": "stream",
     "text": [
      "395/395 [==============================] - 243s 614ms/step - loss: 0.1105 - accuracy: 0.9762\n"
     ]
    },
    {
     "data": {
      "text/plain": [
       "[0.11045515537261963, 0.9762470126152039]"
      ]
     },
     "execution_count": 130,
     "metadata": {},
     "output_type": "execute_result"
    }
   ],
   "source": [
    "from keras.models import load_model\n",
    "saved_model = load_model('model_experiments/'+model.name)\n",
    "saved_model.evaluate(test_X, test_y)"
   ]
  },
  {
   "cell_type": "code",
   "execution_count": 131,
   "id": "5b60dd3f",
   "metadata": {},
   "outputs": [],
   "source": [
    "preds = saved_model.predict(test_X)\n",
    "\n",
    "pred_y = []\n",
    "for pred in preds:\n",
    "    pred_y.append(np.argmax(pred))\n",
    "pred_y = np.array(pred_y)"
   ]
  },
  {
   "cell_type": "code",
   "execution_count": 132,
   "id": "55921f94",
   "metadata": {
    "scrolled": true
   },
   "outputs": [
    {
     "data": {
      "text/plain": [
       "array([[ 59,   0,   0, ...,   0,   0,   0],\n",
       "       [  0, 703,   2, ...,   0,   0,   0],\n",
       "       [  0,   8, 741, ...,   0,   0,   0],\n",
       "       ...,\n",
       "       [  0,   0,   0, ...,  85,   0,   0],\n",
       "       [  0,   0,   0, ...,   0,  50,   0],\n",
       "       [  0,   0,   0, ...,   0,   3,  86]], dtype=int64)"
      ]
     },
     "execution_count": 132,
     "metadata": {},
     "output_type": "execute_result"
    }
   ],
   "source": [
    "from sklearn.metrics import confusion_matrix\n",
    "confusion_matrix(test_y, pred_y)"
   ]
  },
  {
   "cell_type": "code",
   "execution_count": 126,
   "id": "e339b0d4",
   "metadata": {},
   "outputs": [
    {
     "data": {
      "text/html": [
       "<div>\n",
       "<style scoped>\n",
       "    .dataframe tbody tr th:only-of-type {\n",
       "        vertical-align: middle;\n",
       "    }\n",
       "\n",
       "    .dataframe tbody tr th {\n",
       "        vertical-align: top;\n",
       "    }\n",
       "\n",
       "    .dataframe thead th {\n",
       "        text-align: right;\n",
       "    }\n",
       "</style>\n",
       "<table border=\"1\" class=\"dataframe\">\n",
       "  <thead>\n",
       "    <tr style=\"text-align: right;\">\n",
       "      <th></th>\n",
       "      <th>Variable Name</th>\n",
       "      <th>Value</th>\n",
       "    </tr>\n",
       "  </thead>\n",
       "  <tbody>\n",
       "    <tr>\n",
       "      <th>0</th>\n",
       "      <td>xdim</td>\n",
       "      <td>50</td>\n",
       "    </tr>\n",
       "    <tr>\n",
       "      <th>1</th>\n",
       "      <td>ydim</td>\n",
       "      <td>51</td>\n",
       "    </tr>\n",
       "  </tbody>\n",
       "</table>\n",
       "</div>"
      ],
      "text/plain": [
       "  Variable Name  Value\n",
       "0          xdim     50\n",
       "1          ydim     51"
      ]
     },
     "execution_count": 126,
     "metadata": {},
     "output_type": "execute_result"
    }
   ],
   "source": [
    "import os\n",
    "data = pd.read_csv(os.path.join(os.getcwd(),'model_experiments','variable_values.csv'))\n",
    "data"
   ]
  },
  {
   "cell_type": "code",
   "execution_count": 72,
   "id": "9cb14442",
   "metadata": {},
   "outputs": [
    {
     "data": {
      "text/plain": [
       "12"
      ]
     },
     "execution_count": 72,
     "metadata": {},
     "output_type": "execute_result"
    }
   ],
   "source": [
    "pred_y[3431]"
   ]
  },
  {
   "cell_type": "code",
   "execution_count": 67,
   "id": "db3a3454",
   "metadata": {},
   "outputs": [
    {
     "data": {
      "text/plain": [
       "0"
      ]
     },
     "execution_count": 67,
     "metadata": {},
     "output_type": "execute_result"
    }
   ],
   "source": [
    "np.argmax(pred_y[31])"
   ]
  },
  {
   "cell_type": "code",
   "execution_count": 71,
   "id": "fcd894eb",
   "metadata": {},
   "outputs": [
    {
     "data": {
      "text/plain": [
       "12"
      ]
     },
     "execution_count": 71,
     "metadata": {},
     "output_type": "execute_result"
    }
   ],
   "source": [
    "test_y[3431]"
   ]
  },
  {
   "cell_type": "code",
   "execution_count": null,
   "id": "17ce0f7f",
   "metadata": {},
   "outputs": [],
   "source": []
  }
 ],
 "metadata": {
  "kernelspec": {
   "display_name": "Python 3 (ipykernel)",
   "language": "python",
   "name": "python3"
  },
  "language_info": {
   "codemirror_mode": {
    "name": "ipython",
    "version": 3
   },
   "file_extension": ".py",
   "mimetype": "text/x-python",
   "name": "python",
   "nbconvert_exporter": "python",
   "pygments_lexer": "ipython3",
   "version": "3.9.7"
  }
 },
 "nbformat": 4,
 "nbformat_minor": 5
}
