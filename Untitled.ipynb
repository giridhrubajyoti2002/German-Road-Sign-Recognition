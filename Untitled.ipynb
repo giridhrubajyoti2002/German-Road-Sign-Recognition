{
 "cells": [
  {
   "cell_type": "code",
   "execution_count": 2,
   "id": "ffff4685",
   "metadata": {},
   "outputs": [
    {
     "name": "stderr",
     "output_type": "stream",
     "text": [
      "C:\\Users\\Dhrubajyoti Giri\\AppData\\Local\\Programs\\Python\\Python39\\lib\\site-packages\\numpy\\_distributor_init.py:30: UserWarning: loaded more than 1 DLL from .libs:\n",
      "C:\\Users\\Dhrubajyoti Giri\\AppData\\Local\\Programs\\Python\\Python39\\lib\\site-packages\\numpy\\.libs\\libopenblas.WCDJNK7YVMPZQ2ME2ZZHJJRJ3JIKNDB7.gfortran-win_amd64.dll\n",
      "C:\\Users\\Dhrubajyoti Giri\\AppData\\Local\\Programs\\Python\\Python39\\lib\\site-packages\\numpy\\.libs\\libopenblas.XWYDX2IKJW2NMTWSFYNGFUWKQU3LYTCZ.gfortran-win_amd64.dll\n",
      "  warnings.warn(\"loaded more than 1 DLL from .libs:\"\n"
     ]
    }
   ],
   "source": [
    "import pandas as pd\n",
    "import cv2\n",
    "import numpy as np\n",
    "from PIL import Image, ImageTk\n",
    "import matplotlib.pyplot as plt\n",
    "import matplotlib.image as mpimg"
   ]
  },
  {
   "cell_type": "code",
   "execution_count": 9,
   "id": "7aa1b9fc",
   "metadata": {},
   "outputs": [],
   "source": [
    "meta = pd.read_csv('datasets/Meta.csv')\n",
    "meta.index = meta['ClassId']\n",
    "meta = meta.drop(['ClassId'],axis=1)\n"
   ]
  },
  {
   "cell_type": "code",
   "execution_count": 40,
   "id": "0bddbcc2",
   "metadata": {
    "collapsed": true
   },
   "outputs": [
    {
     "name": "stdout",
     "output_type": "stream",
     "text": [
      "(30, 29, 3)\n",
      "1800\n",
      "[[[0.29411766 0.30588236 0.3137255 ]\n",
      "  [0.2901961  0.29803923 0.30588236]\n",
      "  [0.3372549  0.34117648 0.32941177]\n",
      "  ...\n",
      "  [0.9882353  0.9490196  1.        ]\n",
      "  [0.91764706 0.85490197 0.90588236]\n",
      "  [0.8627451  0.67058825 0.7058824 ]]\n",
      "\n",
      " [[0.7529412  0.42745098 0.4392157 ]\n",
      "  [0.5411765  0.2627451  0.25490198]\n",
      "  [0.5568628  0.32156864 0.3372549 ]\n",
      "  ...\n",
      "  [1.         0.98039216 1.        ]\n",
      "  [0.99215686 0.98039216 1.        ]\n",
      "  [0.9764706  0.99215686 1.        ]]\n",
      "\n",
      " [[0.73333335 0.7490196  0.9411765 ]\n",
      "  [0.49411765 0.50980395 0.7137255 ]\n",
      "  [0.5921569  0.6        0.81960785]\n",
      "  ...\n",
      "  [0.3137255  0.3137255  0.30588236]\n",
      "  [0.30588236 0.30588236 0.3137255 ]\n",
      "  [0.3372549  0.33333334 0.3372549 ]]\n",
      "\n",
      " ...\n",
      "\n",
      " [[0.54509807 0.61960787 0.6862745 ]\n",
      "  [0.85882354 0.7411765  0.7921569 ]\n",
      "  [0.7294118  0.41960785 0.42352942]\n",
      "  ...\n",
      "  [0.6431373  0.5254902  0.52156866]\n",
      "  [0.6392157  0.3882353  0.40392157]\n",
      "  [0.6392157  0.25490198 0.25490198]]\n",
      "\n",
      " [[0.7372549  0.45490196 0.44313726]\n",
      "  [0.8392157  0.65882355 0.6       ]\n",
      "  [0.6666667  0.56078434 0.45490196]\n",
      "  ...\n",
      "  [0.34117648 0.34901962 0.33333334]\n",
      "  [0.3529412  0.35686275 0.3372549 ]\n",
      "  [0.3647059  0.3647059  0.34509805]]\n",
      "\n",
      " [[0.69411767 0.70980394 0.7607843 ]\n",
      "  [0.6784314  0.69803923 0.74509805]\n",
      "  [0.67058825 0.69411767 0.73333335]\n",
      "  ...\n",
      "  [1.         0.89411765 0.9764706 ]\n",
      "  [0.8862745  0.6313726  0.6901961 ]\n",
      "  [0.65882355 0.37254903 0.40392157]]]\n"
     ]
    }
   ],
   "source": [
    "image = mpimg.imread('00000_00000_00000.png')\n",
    "# image = np.array(image)\n",
    "print(image.shape)\n",
    "image.resize(30,20,3)\n",
    "print(image.size)\n",
    "# plt.imshow(image)\n",
    "print(image)"
   ]
  },
  {
   "cell_type": "code",
   "execution_count": 19,
   "id": "f61e0adf",
   "metadata": {},
   "outputs": [
    {
     "data": {
      "text/plain": [
       "(30, 29, 3)"
      ]
     },
     "execution_count": 19,
     "metadata": {},
     "output_type": "execute_result"
    }
   ],
   "source": [
    "image.shape"
   ]
  },
  {
   "cell_type": "code",
   "execution_count": 5,
   "id": "0628d6d1",
   "metadata": {},
   "outputs": [
    {
     "name": "stdout",
     "output_type": "stream",
     "text": [
      "(124, 122, 3)\n"
     ]
    }
   ],
   "source": [
    "image = cv2.imread('00000_00002_00029.png').shape\n",
    "print(image)"
   ]
  },
  {
   "cell_type": "code",
   "execution_count": 9,
   "id": "2b1836ea",
   "metadata": {},
   "outputs": [
    {
     "name": "stdout",
     "output_type": "stream",
     "text": [
      "(20, 30, 3)\n"
     ]
    }
   ],
   "source": [
    "image = cv2.resize(image, (30,20))\n",
    "print(image.shape)\n",
    "\n",
    "cv2.imshow('Image',image)\n",
    "cv2.waitKey(0)\n",
    "cv2.destroyAllWindows()"
   ]
  },
  {
   "cell_type": "code",
   "execution_count": 30,
   "id": "e7e63bbe",
   "metadata": {
    "collapsed": true
   },
   "outputs": [
    {
     "data": {
      "text/plain": [
       "array([[[ 82,  80,  77],\n",
       "        [ 79,  77,  76],\n",
       "        [ 83,  87,  86],\n",
       "        ...,\n",
       "        [ 75,  75,  69],\n",
       "        [ 70,  71,  68],\n",
       "        [ 69,  70,  70]],\n",
       "\n",
       "       [[ 82,  80,  79],\n",
       "        [ 85,  83,  84],\n",
       "        [ 89,  89,  92],\n",
       "        ...,\n",
       "        [ 73,  75,  72],\n",
       "        [ 71,  75,  74],\n",
       "        [ 75,  79,  79]],\n",
       "\n",
       "       [[ 76,  75,  73],\n",
       "        [ 80,  82,  91],\n",
       "        [ 97,  92, 113],\n",
       "        ...,\n",
       "        [ 68,  73,  77],\n",
       "        [ 69,  74,  73],\n",
       "        [ 79,  83,  75]],\n",
       "\n",
       "       ...,\n",
       "\n",
       "       [[102, 135, 142],\n",
       "        [106, 126, 126],\n",
       "        [100, 115, 108],\n",
       "        ...,\n",
       "        [ 75,  79,  78],\n",
       "        [ 75,  80,  79],\n",
       "        [ 85,  89,  89]],\n",
       "\n",
       "       [[129, 124, 123],\n",
       "        [125, 120, 115],\n",
       "        [116, 113, 103],\n",
       "        ...,\n",
       "        [ 91,  96,  96],\n",
       "        [ 94, 102, 100],\n",
       "        [ 99, 103,  98]],\n",
       "\n",
       "       [[ 90,  87,  87],\n",
       "        [105,  99,  94],\n",
       "        [ 84,  79,  67],\n",
       "        ...,\n",
       "        [ 95, 102, 102],\n",
       "        [ 93, 104, 101],\n",
       "        [ 91,  99,  92]]], dtype=uint8)"
      ]
     },
     "execution_count": 30,
     "metadata": {},
     "output_type": "execute_result"
    }
   ],
   "source": [
    "root.mainloop()"
   ]
  },
  {
   "cell_type": "code",
   "execution_count": 6,
   "id": "2b4e59be",
   "metadata": {},
   "outputs": [
    {
     "data": {
      "text/plain": [
       "3.0"
      ]
     },
     "execution_count": 6,
     "metadata": {},
     "output_type": "execute_result"
    }
   ],
   "source": [
    "x =[2,3,4]\n",
    "np.average(x)"
   ]
  },
  {
   "cell_type": "code",
   "execution_count": 11,
   "id": "90a546a6",
   "metadata": {},
   "outputs": [
    {
     "name": "stdout",
     "output_type": "stream",
     "text": [
      "D:\\Coding\\Projects\\Python\\Deep Learning Projects\\Artificial Neural Network\\Traffic Sign Recognition\n"
     ]
    },
    {
     "ename": "TypeError",
     "evalue": "'module' object is not callable",
     "output_type": "error",
     "traceback": [
      "\u001b[1;31m---------------------------------------------------------------------------\u001b[0m",
      "\u001b[1;31mTypeError\u001b[0m                                 Traceback (most recent call last)",
      "\u001b[1;32mC:\\Users\\DHRUBA~1\\AppData\\Local\\Temp/ipykernel_24280/1817435790.py\u001b[0m in \u001b[0;36m<module>\u001b[1;34m\u001b[0m\n\u001b[0;32m      1\u001b[0m \u001b[1;32mimport\u001b[0m \u001b[0mos\u001b[0m\u001b[1;33m\u001b[0m\u001b[1;33m\u001b[0m\u001b[0m\n\u001b[0;32m      2\u001b[0m \u001b[0mprint\u001b[0m\u001b[1;33m(\u001b[0m\u001b[0mos\u001b[0m\u001b[1;33m.\u001b[0m\u001b[0mgetcwd\u001b[0m\u001b[1;33m(\u001b[0m\u001b[1;33m)\u001b[0m\u001b[1;33m)\u001b[0m\u001b[1;33m\u001b[0m\u001b[1;33m\u001b[0m\u001b[0m\n\u001b[1;32m----> 3\u001b[1;33m \u001b[0mprint\u001b[0m\u001b[1;33m(\u001b[0m\u001b[0mos\u001b[0m\u001b[1;33m.\u001b[0m\u001b[0mpath\u001b[0m\u001b[1;33m(\u001b[0m\u001b[1;34m'Traffic Sign Recognition/datasets'\u001b[0m\u001b[1;33m)\u001b[0m\u001b[1;33m)\u001b[0m\u001b[1;33m\u001b[0m\u001b[1;33m\u001b[0m\u001b[0m\n\u001b[0m",
      "\u001b[1;31mTypeError\u001b[0m: 'module' object is not callable"
     ]
    }
   ],
   "source": [
    "import os\n",
    "print(os.getcwd())\n",
    "print(os.path('Traffic Sign Recognition/datasets'))"
   ]
  },
  {
   "cell_type": "code",
   "execution_count": 1,
   "id": "473e0d2a",
   "metadata": {},
   "outputs": [
    {
     "name": "stderr",
     "output_type": "stream",
     "text": [
      "C:\\Users\\Dhrubajyoti Giri\\AppData\\Local\\Programs\\Python\\Python39\\lib\\site-packages\\numpy\\_distributor_init.py:30: UserWarning: loaded more than 1 DLL from .libs:\n",
      "C:\\Users\\Dhrubajyoti Giri\\AppData\\Local\\Programs\\Python\\Python39\\lib\\site-packages\\numpy\\.libs\\libopenblas.WCDJNK7YVMPZQ2ME2ZZHJJRJ3JIKNDB7.gfortran-win_amd64.dll\n",
      "C:\\Users\\Dhrubajyoti Giri\\AppData\\Local\\Programs\\Python\\Python39\\lib\\site-packages\\numpy\\.libs\\libopenblas.XWYDX2IKJW2NMTWSFYNGFUWKQU3LYTCZ.gfortran-win_amd64.dll\n",
      "  warnings.warn(\"loaded more than 1 DLL from .libs:\"\n"
     ]
    },
    {
     "data": {
      "text/html": [
       "<div>\n",
       "<style scoped>\n",
       "    .dataframe tbody tr th:only-of-type {\n",
       "        vertical-align: middle;\n",
       "    }\n",
       "\n",
       "    .dataframe tbody tr th {\n",
       "        vertical-align: top;\n",
       "    }\n",
       "\n",
       "    .dataframe thead th {\n",
       "        text-align: right;\n",
       "    }\n",
       "</style>\n",
       "<table border=\"1\" class=\"dataframe\">\n",
       "  <thead>\n",
       "    <tr style=\"text-align: right;\">\n",
       "      <th></th>\n",
       "      <th>Path</th>\n",
       "      <th>ClassId</th>\n",
       "      <th>ShapeId</th>\n",
       "      <th>ColorId</th>\n",
       "      <th>SignId</th>\n",
       "    </tr>\n",
       "    <tr>\n",
       "      <th>ClassId</th>\n",
       "      <th></th>\n",
       "      <th></th>\n",
       "      <th></th>\n",
       "      <th></th>\n",
       "      <th></th>\n",
       "    </tr>\n",
       "  </thead>\n",
       "  <tbody>\n",
       "    <tr>\n",
       "      <th>27</th>\n",
       "      <td>Meta/27.png</td>\n",
       "      <td>27</td>\n",
       "      <td>0</td>\n",
       "      <td>0</td>\n",
       "      <td>1.32</td>\n",
       "    </tr>\n",
       "    <tr>\n",
       "      <th>0</th>\n",
       "      <td>Meta/0.png</td>\n",
       "      <td>0</td>\n",
       "      <td>1</td>\n",
       "      <td>0</td>\n",
       "      <td>3.29</td>\n",
       "    </tr>\n",
       "    <tr>\n",
       "      <th>1</th>\n",
       "      <td>Meta/1.png</td>\n",
       "      <td>1</td>\n",
       "      <td>1</td>\n",
       "      <td>0</td>\n",
       "      <td>3.29</td>\n",
       "    </tr>\n",
       "    <tr>\n",
       "      <th>10</th>\n",
       "      <td>Meta/10.png</td>\n",
       "      <td>10</td>\n",
       "      <td>1</td>\n",
       "      <td>0</td>\n",
       "      <td>3.27</td>\n",
       "    </tr>\n",
       "    <tr>\n",
       "      <th>11</th>\n",
       "      <td>Meta/11.png</td>\n",
       "      <td>11</td>\n",
       "      <td>0</td>\n",
       "      <td>0</td>\n",
       "      <td>1.22</td>\n",
       "    </tr>\n",
       "  </tbody>\n",
       "</table>\n",
       "</div>"
      ],
      "text/plain": [
       "                Path  ClassId  ShapeId  ColorId SignId\n",
       "ClassId                                               \n",
       "27       Meta/27.png       27        0        0   1.32\n",
       "0         Meta/0.png        0        1        0   3.29\n",
       "1         Meta/1.png        1        1        0   3.29\n",
       "10       Meta/10.png       10        1        0   3.27\n",
       "11       Meta/11.png       11        0        0   1.22"
      ]
     },
     "execution_count": 1,
     "metadata": {},
     "output_type": "execute_result"
    }
   ],
   "source": [
    "import pandas as pd\n",
    "csv = pd.read_csv('datasets/Meta.csv')\n",
    "csv.index = csv['ClassId']\n",
    "# csv = csv['Path']\n",
    "csv.head()"
   ]
  },
  {
   "cell_type": "code",
   "execution_count": 10,
   "id": "04dfdd7a",
   "metadata": {},
   "outputs": [
    {
     "data": {
      "text/plain": [
       "Variable Name\n",
       "xdim   NaN\n",
       "ydim   NaN\n",
       "Name: Value, dtype: float64"
      ]
     },
     "execution_count": 10,
     "metadata": {},
     "output_type": "execute_result"
    }
   ],
   "source": [
    "import pandas as pd\n",
    "df = pd.read_csv('model_experiments/variable_values.csv')\n",
    "pd.Series(df['Value'], index=df['Variable Name'])"
   ]
  },
  {
   "cell_type": "code",
   "execution_count": 12,
   "id": "b9a1312f",
   "metadata": {},
   "outputs": [
    {
     "ename": "NameError",
     "evalue": "name 'model' is not defined",
     "output_type": "error",
     "traceback": [
      "\u001b[1;31m---------------------------------------------------------------------------\u001b[0m",
      "\u001b[1;31mNameError\u001b[0m                                 Traceback (most recent call last)",
      "\u001b[1;32mC:\\Users\\DHRUBA~1\\AppData\\Local\\Temp/ipykernel_17548/1510591377.py\u001b[0m in \u001b[0;36m<module>\u001b[1;34m\u001b[0m\n\u001b[0;32m      1\u001b[0m \u001b[1;32mimport\u001b[0m \u001b[0mos\u001b[0m\u001b[1;33m\u001b[0m\u001b[1;33m\u001b[0m\u001b[0m\n\u001b[1;32m----> 2\u001b[1;33m \u001b[0mdata\u001b[0m \u001b[1;33m=\u001b[0m \u001b[0mpd\u001b[0m\u001b[1;33m.\u001b[0m\u001b[0mread_csv\u001b[0m\u001b[1;33m(\u001b[0m\u001b[0mos\u001b[0m\u001b[1;33m.\u001b[0m\u001b[0mpath\u001b[0m\u001b[1;33m.\u001b[0m\u001b[0mjoin\u001b[0m\u001b[1;33m(\u001b[0m\u001b[0mos\u001b[0m\u001b[1;33m.\u001b[0m\u001b[0mgetcwd\u001b[0m\u001b[1;33m(\u001b[0m\u001b[1;33m)\u001b[0m\u001b[1;33m,\u001b[0m\u001b[1;34m'model_experiments'\u001b[0m\u001b[1;33m,\u001b[0m\u001b[0mmodel\u001b[0m\u001b[1;33m.\u001b[0m\u001b[0mname\u001b[0m\u001b[1;33m)\u001b[0m\u001b[1;33m)\u001b[0m\u001b[1;33m\u001b[0m\u001b[1;33m\u001b[0m\u001b[0m\n\u001b[0m\u001b[0;32m      3\u001b[0m \u001b[0mdata\u001b[0m\u001b[1;33m\u001b[0m\u001b[1;33m\u001b[0m\u001b[0m\n",
      "\u001b[1;31mNameError\u001b[0m: name 'model' is not defined"
     ]
    }
   ],
   "source": [
    "import os\n",
    "data = pd.read_csv(os.path.join(os.getcwd(),'model_experiments',model.name))\n",
    "data"
   ]
  },
  {
   "cell_type": "code",
   "execution_count": null,
   "id": "c8631bf4",
   "metadata": {},
   "outputs": [],
   "source": []
  }
 ],
 "metadata": {
  "kernelspec": {
   "display_name": "Python 3 (ipykernel)",
   "language": "python",
   "name": "python3"
  },
  "language_info": {
   "codemirror_mode": {
    "name": "ipython",
    "version": 3
   },
   "file_extension": ".py",
   "mimetype": "text/x-python",
   "name": "python",
   "nbconvert_exporter": "python",
   "pygments_lexer": "ipython3",
   "version": "3.9.7"
  }
 },
 "nbformat": 4,
 "nbformat_minor": 5
}
